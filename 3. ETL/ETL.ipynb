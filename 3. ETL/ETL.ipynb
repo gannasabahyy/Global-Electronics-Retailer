{
 "cells": [
  {
   "cell_type": "code",
   "execution_count": 1,
   "id": "1d87025d",
   "metadata": {},
   "outputs": [],
   "source": [
    "import pandas as pd\n",
    "import pyodbc\n",
    "from sqlalchemy import create_engine\n",
    "import urllib"
   ]
  },
  {
   "cell_type": "code",
   "execution_count": 5,
   "id": "9318badd",
   "metadata": {},
   "outputs": [],
   "source": [
    "# sales table\n",
    "sales = pd.read_csv(r'C:\\Users\\DELL\\Downloads\\Big Data Project\\1. Data Cleaning\\cleanedSales.csv')\n",
    "\n",
    "# stores table\n",
    "stores = pd.read_csv(r'C:\\Users\\DELL\\Downloads\\Big Data Project\\1. Data Cleaning\\cleanedStores.csv')\n",
    "\n",
    "# products table\n",
    "prod = pd.read_excel(r'C:\\Users\\DELL\\Downloads\\Big Data Project\\1. Data Cleaning\\cleaneddProducts.xlsx')\n",
    "\n",
    "# exchange rates table\n",
    "rates = pd.read_excel(r'C:\\Users\\DELL\\Downloads\\Big Data Project\\1. Data Cleaning\\cleanedExchangeRates.xlsx')\n",
    "\n",
    "server = 'DESKTOP-FNGG4AO\\MSSQLSERVER10'\n",
    "database = 'BigData'\n",
    "username = 'ganna11'\n",
    "password = 'gannaS@bahy11'\n",
    "\n",
    "# create a connection string\n",
    "connection_string = f\"mssql+pyodbc://{username}:{urllib.parse.quote_plus(password)}@{server}/{database}?driver=ODBC+Driver+17+for+SQL+Server\"\n",
    "engine = create_engine(connection_string)\n",
    "\n",
    "# create a dictionary of dataFrames\n",
    "dataframes = {\n",
    "    'sales': sales,\n",
    "    'stores': stores,\n",
    "    'products': prod,\n",
    "    'exchange_rates': rates\n",
    "}\n",
    "\n",
    "# load each dataframe into sql\n",
    "for table_name, df in dataframes.items():\n",
    "    df.to_sql(table_name, con=engine, if_exists='replace', index=False)"
   ]
  },
  {
   "cell_type": "code",
   "execution_count": null,
   "id": "1d2b7abf",
   "metadata": {},
   "outputs": [
    {
     "name": "stdout",
     "output_type": "stream",
     "text": [
      "Table transferred successfully!\n"
     ]
    }
   ],
   "source": [
    "transfer_sql = f\"\"\"\n",
    "SELECT * INTO [BigData].[dbo].[cust] \n",
    "FROM [cleaned_customers].[dbo].[cleaned_customers]\n",
    "\"\"\"\n",
    "\n",
    "with pyodbc.connect(\n",
    "    'DRIVER={ODBC Driver 17 for SQL Server};'\n",
    "    'SERVER=DESKTOP-FNGG4AO\\\\MSSQLSERVER10;'\n",
    "    'Trusted_Connection=yes;'\n",
    ") as conn:\n",
    "    conn.autocommit = True\n",
    "    with conn.cursor() as cursor:\n",
    "        cursor.execute(transfer_sql)\n",
    "    print(\"Table transferred successfully!\")"
   ]
  },
  {
   "cell_type": "code",
   "execution_count": null,
   "id": "eef1cb38",
   "metadata": {},
   "outputs": [],
   "source": []
  }
 ],
 "metadata": {
  "kernelspec": {
   "display_name": "Python 3 (ipykernel)",
   "language": "python",
   "name": "python3"
  },
  "language_info": {
   "codemirror_mode": {
    "name": "ipython",
    "version": 3
   },
   "file_extension": ".py",
   "mimetype": "text/x-python",
   "name": "python",
   "nbconvert_exporter": "python",
   "pygments_lexer": "ipython3",
   "version": "3.9.13"
  }
 },
 "nbformat": 4,
 "nbformat_minor": 5
}
